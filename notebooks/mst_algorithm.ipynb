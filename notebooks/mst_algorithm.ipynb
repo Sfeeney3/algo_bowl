{
 "cells": [
  {
   "cell_type": "code",
   "execution_count": 9,
   "id": "d71fc430",
   "metadata": {},
   "outputs": [],
   "source": [
    "import networkx as nx\n",
    "import random\n",
    "import math"
   ]
  },
  {
   "cell_type": "code",
   "execution_count": 57,
   "id": "c8ab0b44",
   "metadata": {},
   "outputs": [],
   "source": [
    "# check if required nodes are present in the tree\n",
    "def check_nodes(G, R):\n",
    "    for i in range(len(R)):\n",
    "        vertex = R[i]\n",
    "        if G.has_node(str(vertex)):\n",
    "            pass\n",
    "        else:\n",
    "            print(\"Invalid output: All required nodes not present\")\n",
    "            return False\n",
    "    return True\n",
    "\n",
    "# create a graph from the output file\n",
    "def create_MST(edges, num_edges):\n",
    "    if len(edges) < num_edges:\n",
    "        print('Invalid output: Not enough edges provided')\n",
    "        return\n",
    "    else:\n",
    "        G = nx.Graph()\n",
    "        for i in range(num_edges):\n",
    "\n",
    "            if edges[i] != '':\n",
    "                edge = edges[i]\n",
    "                edge = edge.split(' ')\n",
    "                G.add_edge(edge[0], edge[1])\n",
    "        return G\n",
    "\n",
    "class MST:\n",
    "    '''\n",
    "    Class that constructs input graph and finds the Minimum Spanning Tree for a set of vertices\n",
    "    '''\n",
    "    def __init__(self, data):\n",
    "        '''\n",
    "        Take data and construct graph\n",
    "        '''\n",
    "        self.data = data\n",
    "        self.generate_graph()\n",
    "        nodes = self.graph.nodes\n",
    "        \n",
    "        # Initialize final edge list\n",
    "        self.final_edges = []\n",
    "        \n",
    "    #-----------Methods-------------------\n",
    "    def find_minimum_subset_tree(self):\n",
    "        '''\n",
    "        Run full algorithm to find minimum tree spanning subset R of V\n",
    "        '''\n",
    "        self.get_all_shortest_paths(self.graph)\n",
    "        self.create_shortest_paths_graph()\n",
    "        self.mst(self.graph)\n",
    "        min_tree.get_mst_of_sp_graph()\n",
    "        self.final_cost = self.get_graph_cost(self.final_edges)\n",
    "        \n",
    "        # generate output\n",
    "        out_string = str(self.final_cost) + '\\n'\n",
    "        out_string += str(len(self.final_edges)) + '\\n'\n",
    "        \n",
    "        for edge in self.final_edges:\n",
    "            out_string += '{} {}\\n'.format(edge[0], edge[1])\n",
    "        \n",
    "        return out_string\n",
    "    \n",
    "    def get_all_shortest_paths(self, graph):\n",
    "        '''\n",
    "        Calculate shortest paths between node i and node j, for all (i, j) in required vertices\n",
    "        '''\n",
    "        self.shortest_paths_list = []\n",
    "        \n",
    "        for i in range(int(self.dims[2])):\n",
    "            for j in range(i+1, int(self.dims[2])):\n",
    "                \n",
    "                # Run Dijkstra's to compute shortest path between i and j\n",
    "                self.shortest_paths_list.append(nx.shortest_path(graph, source=self.r_vertices[i], target=self.r_vertices[j], method='dijkstra'))\n",
    "        \n",
    "    def create_shortest_paths_graph(self):\n",
    "        '''Creates graph of shortest paths between all required vertices'''\n",
    "        \n",
    "        self.sp_graph = nx.Graph()\n",
    "        self.edge_dict = {} # Conversion dictionary for edges\n",
    "        \n",
    "        for sp in self.shortest_paths_list:\n",
    "            # Get edges\n",
    "            edges = [(sp[i], sp[i+1]) for i in range(len(sp) - 1)]\n",
    "            # Get weights of edges\n",
    "            tot_weight = 0\n",
    "            for edge in edges:\n",
    "                weight = self.graph.get_edge_data(edge[0], edge[1])['weight']\n",
    "                tot_weight += weight\n",
    "            # Create edge from the beginning of path to end of path, assigning total weight to edge\n",
    "            self.sp_graph.add_edge(sp[0], sp[-1], weight=tot_weight)\n",
    "            self.edge_dict['(\\'{}\\', \\'{}\\')'.format(sp[0], sp[-1])] = edges     \n",
    "            \n",
    "    def get_mst_of_sp_graph(self):\n",
    "        '''\n",
    "        Compute the minimum spanning tree of shortest paths graph, then create the final edge list\n",
    "        '''\n",
    "        self.sp_graph = self.mst(self.sp_graph)\n",
    "        \n",
    "        for edge in self.sp_graph.edges:\n",
    "            self.final_edges.extend(self.edge_dict[str(edge)])\n",
    "        \n",
    "    def mst(self, graph):\n",
    "        '''\n",
    "        Run Prim's algorithm on given graph\n",
    "        '''\n",
    "        return nx.minimum_spanning_tree(graph, algorithm='prim')\n",
    "            \n",
    "    def generate_graph(self):\n",
    "        self.dims = self.data.pop(0).split(' ')\n",
    "        self.r_vertices = self.data.pop(0).split(' ')\n",
    "        self.graph = nx.Graph()\n",
    "        self.graph.add_nodes_from([str(i) for i in range(1, int(self.dims[0]) + 1)]) # Graph is 1-indexed\n",
    "        \n",
    "        for i, edge in enumerate(self.data):\n",
    "            edge = edge.strip().split(' ')\n",
    "            self.graph.add_edge(edge[0], edge[1], weight=int(edge[2]))\n",
    "    \n",
    "    def get_graph_cost(self, graph):\n",
    "        cost = 0\n",
    "        if isinstance(graph, list):\n",
    "            for edge in graph:\n",
    "                cost += self.graph.get_edge_data(edge[0], edge[1])['weight']\n",
    "        else:\n",
    "            for edge in graph.edges:\n",
    "                cost += graph.get_edge_data(edge[0], edge[1])['weight']\n",
    "                \n",
    "        return cost\n",
    "    \n",
    "    def check_tree(self, graph):\n",
    "        '''\n",
    "        Run search algorithm to check if input graph is a valid tree\n",
    "        '''\n",
    "        return nx.is_tree(graph)\n",
    "    \n",
    "#     def simulate_annealing(self):\n",
    "#         '''\n",
    "#         Run simulated annealing algorithm to find minimum spanning tree of required vertices\n",
    "#         !! WILL NOT BE USING THIS FOR ALGOBOWL UNLESS WE NEED TO!!\n",
    "#         '''\n",
    "#         current_state = self.generate_random_tree()\n",
    "#         k_steps = 10000\n",
    "#         for k in range(k_steps+1):\n",
    "#             T = (k_steps - k)\n",
    "#             if T <=0:\n",
    "#                 return current_state\n",
    "#             next_state = self.get_neighbor()\n",
    "#             delta = self.get_tree_cost(next_state) - self.get_tree_cost(current_state)\n",
    "#             if delta < 0:\n",
    "#                 current_state = next_state\n",
    "#             else:\n",
    "#                 prob = random.uniform(0,1)\n",
    "#                 if prob <= math.exp(-delta/T):\n",
    "#                     next_state = current_state\n",
    "#         return current_state\n",
    "    \n",
    "#     def generate_random_tree(self):\n",
    "#         pass\n",
    "    \n",
    "#     def get_neighbor(self, tree):\n",
    "#         pass"
   ]
  },
  {
   "cell_type": "code",
   "execution_count": 64,
   "id": "c5b93377",
   "metadata": {},
   "outputs": [],
   "source": [
    "data = ''\n",
    "with open(r'C:\\\\Users\\\\Coby\\\\Grad_School\\\\Algorithms\\\\algo_bowl\\\\algo_bowl\\\\inputs\\\\output_graph_biggest.txt', 'r') as x:\n",
    "    for line in x:\n",
    "        data = data + line\n",
    "data = data.strip().split('\\n')\n",
    "min_tree = MST(data)\n",
    "# print(min_tree.dims, min_tree.r_vertices, min_tree.graph.edges)"
   ]
  },
  {
   "cell_type": "code",
   "execution_count": 65,
   "id": "4124add1",
   "metadata": {},
   "outputs": [
    {
     "name": "stdout",
     "output_type": "stream",
     "text": [
      "True\n"
     ]
    }
   ],
   "source": [
    "output = min_tree.find_minimum_subset_tree()\n",
    "ref_graph = create_MST(output.split('\\n')[2:], len(min_tree.r_vertices))\n",
    "print(check_nodes(ref_graph, min_tree.r_vertices))\n",
    "# print(output)"
   ]
  },
  {
   "cell_type": "code",
   "execution_count": 66,
   "id": "422a47c0",
   "metadata": {},
   "outputs": [
    {
     "name": "stdout",
     "output_type": "stream",
     "text": [
      "354 2011237\n"
     ]
    },
    {
     "data": {
      "text/plain": [
       "True"
      ]
     },
     "execution_count": 66,
     "metadata": {},
     "output_type": "execute_result"
    }
   ],
   "source": [
    "min_tree.get_all_shortest_paths(min_tree.graph)\n",
    "min_tree.create_shortest_paths_graph()\n",
    "min_tree.mst(min_tree.graph)\n",
    "min_tree.get_mst_of_sp_graph()\n",
    "min_tree.get_graph_cost(min_tree.final_edges)\n",
    "print(min_tree.get_graph_cost(min_tree.final_edges), min_tree.get_graph_cost(min_tree.graph))\n",
    "final_tree = nx.Graph()\n",
    "final_tree.add_edges_from(min_tree.final_edges)\n",
    "min_tree.check_tree(final_tree)"
   ]
  },
  {
   "cell_type": "code",
   "execution_count": 138,
   "id": "c305ab00",
   "metadata": {},
   "outputs": [
    {
     "data": {
      "image/png": "[encoded data removed]",
      "text/plain": [
       "<Figure size 432x288 with 1 Axes>"
      ]
     },
     "metadata": {},
     "output_type": "display_data"
    }
   ],
   "source": [
    "nx.draw(final_tree)"
   ]
  },
  {
   "cell_type": "code",
   "execution_count": 139,
   "id": "a25d9998",
   "metadata": {},
   "outputs": [
    {
     "name": "stdout",
     "output_type": "stream",
     "text": [
      "[('1', '2'), ('1', '5'), ('2', '3')]\n"
     ]
    }
   ],
   "source": [
    "print(final_tree.edges)"
   ]
  },
  {
   "cell_type": "code",
   "execution_count": null,
   "id": "51f5334f",
   "metadata": {},
   "outputs": [],
   "source": []
  }
 ],
 "metadata": {
  "kernelspec": {
   "display_name": "Python 3 (ipykernel)",
   "language": "python",
   "name": "python3"
  },
  "language_info": {
   "codemirror_mode": {
    "name": "ipython",
    "version": 3
   },
   "file_extension": ".py",
   "mimetype": "text/x-python",
   "name": "python",
   "nbconvert_exporter": "python",
   "pygments_lexer": "ipython3",
   "version": "3.9.7"
  }
 },
 "nbformat": 4,
 "nbformat_minor": 5
}
