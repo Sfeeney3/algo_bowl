{
 "cells": [
  {
   "cell_type": "code",
   "execution_count": 5,
   "id": "d71fc430",
   "metadata": {},
   "outputs": [],
   "source": [
    "import networkx as nx\n",
    "import random\n",
    "import math"
   ]
  },
  {
   "cell_type": "code",
   "execution_count": 9,
   "id": "c8ab0b44",
   "metadata": {},
   "outputs": [],
   "source": [
    "class MST:\n",
    "    '''\n",
    "    Class that constructs input graph and finds the Minimum Spanning Tree for a set of vertices using Simulated Annealing\n",
    "    '''\n",
    "    def __init__(self, data):\n",
    "        '''\n",
    "        Take data and construct graph\n",
    "        '''\n",
    "        self.data = data\n",
    "        self.generate_graph()\n",
    "        \n",
    "        \n",
    "    #-----------Methods-------------------\n",
    "    def simulate_annealing(self):\n",
    "        '''\n",
    "        Run simulated annealing algorithm to find minimum spanning tree of required vertices\n",
    "        '''\n",
    "        current_state = self.generate_random_tree()\n",
    "        k_steps = 10000\n",
    "        for k in range(k_steps+1):\n",
    "            T = (k_steps - k)\n",
    "            if T <=0:\n",
    "                return current_state\n",
    "            next_state = self.get_neighbor()\n",
    "            delta = self.get_tree_cost(next_state) - self.get_tree_cost(current_state)\n",
    "            if delta < 0:\n",
    "                current_state = next_state\n",
    "            else:\n",
    "                prob = random.uniform(0,1)\n",
    "                if prob <= math.exp(-delta/T):\n",
    "                    next_state = current_state\n",
    "        return current_state\n",
    "            \n",
    "    def generate_graph(self):\n",
    "        self.dims = self.data.pop(0).split(' ')\n",
    "        self.r_vertices = self.data.pop(0).split(' ')\n",
    "        self.graph = nx.Graph()\n",
    "        \n",
    "        for i, edge in enumerate(self.data):\n",
    "            edge = edge.split(' ')\n",
    "            self.graph.add_edge(edge[0], edge[1], weight=int(edge[2]))\n",
    "            \n",
    "    def generate_random_tree(self):\n",
    "        pass\n",
    "    \n",
    "    def get_neighbor(self):\n",
    "        pass\n",
    "    \n",
    "    def get_tree_cost(self, tree):\n",
    "        pass\n",
    "    \n",
    "    def check_tree(self, graph):\n",
    "        '''\n",
    "        Run search algorithm to check if input graph is a valid tree\n",
    "        '''\n",
    "        pass"
   ]
  },
  {
   "cell_type": "code",
   "execution_count": 10,
   "id": "c5b93377",
   "metadata": {},
   "outputs": [
    {
     "name": "stdout",
     "output_type": "stream",
     "text": [
      "['5', '7', '4'] ['1', '2', '3', '5'] [('1', '2'), ('1', '5'), ('1', '4'), ('2', '4'), ('2', '3'), ('5', '4'), ('4', '3')]\n"
     ]
    }
   ],
   "source": [
    "data = ''\n",
    "with open('test_input.txt', 'r') as x:\n",
    "    for line in x:\n",
    "        data = data + line\n",
    "data = data.split('\\n')\n",
    "min_tree = MST(data)\n",
    "print(min_tree.dims, min_tree.r_vertices, min_tree.graph.edges)"
   ]
  },
  {
   "cell_type": "code",
   "execution_count": 11,
   "id": "f619ae68",
   "metadata": {},
   "outputs": [
    {
     "name": "stdout",
     "output_type": "stream",
     "text": [
      "{('1', '2'): 2, ('1', '5'): 2, ('1', '4'): 1, ('2', '4'): 1, ('2', '3'): 2, ('5', '4'): 1, ('4', '3'): 1}\n"
     ]
    }
   ],
   "source": [
    "print(nx.get_edge_attributes(min_tree.graph, 'weight'))"
   ]
  },
  {
   "cell_type": "code",
   "execution_count": null,
   "id": "422a47c0",
   "metadata": {},
   "outputs": [],
   "source": []
  }
 ],
 "metadata": {
  "kernelspec": {
   "display_name": "Python 3 (ipykernel)",
   "language": "python",
   "name": "python3"
  },
  "language_info": {
   "codemirror_mode": {
    "name": "ipython",
    "version": 3
   },
   "file_extension": ".py",
   "mimetype": "text/x-python",
   "name": "python",
   "nbconvert_exporter": "python",
   "pygments_lexer": "ipython3",
   "version": "3.9.7"
  }
 },
 "nbformat": 4,
 "nbformat_minor": 5
}
