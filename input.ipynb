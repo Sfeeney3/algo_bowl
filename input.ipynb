{
 "cells": [
  {
   "cell_type": "code",
   "execution_count": 15,
   "metadata": {},
   "outputs": [],
   "source": [
    "import random\n",
    "import networkx as nx\n",
    "import matplotlib.pyplot as plt"
   ]
  },
  {
   "cell_type": "code",
   "execution_count": 16,
   "metadata": {},
   "outputs": [],
   "source": [
    "class input_script():\n",
    "    def __init__(self) -> None:\n",
    "        self.num_nodes = self.equilikely(50,100) \n",
    "        self.build_graph()\n",
    "\n",
    "    def equilikely(self,a:int,b:int):\n",
    "\n",
    "        r = random.uniform(.00001,.99999)\n",
    "        return(a+int((b-a + 1)*r))\n",
    "    \n",
    "    def build_graph(self):\n",
    "        # Create an empty undirected graph\n",
    "        self.graph = nx.Graph()\n",
    "\n",
    "        # Add nodes\n",
    "        self.graph.add_nodes_from(range(self.num_nodes))\n",
    "        n = self.num_nodes\n",
    "        # Add edges with weights\n",
    "        for i in range(n):\n",
    "            for j in range(i + 1, n):  # Avoid adding self-loops and duplicate edges\n",
    "                weight = self.equilikely(1, 50)\n",
    "                self.graph.add_edge(i, j, weight=weight)\n",
    "        \n",
    "        \n",
    "\n"
   ]
  },
  {
   "cell_type": "code",
   "execution_count": 18,
   "metadata": {},
   "outputs": [],
   "source": [
    "test_input = input_script()\n",
    "\n",
    "\n",
    "\n",
    "\n"
   ]
  }
 ],
 "metadata": {
  "kernelspec": {
   "display_name": "base",
   "language": "python",
   "name": "python3"
  },
  "language_info": {
   "codemirror_mode": {
    "name": "ipython",
    "version": 3
   },
   "file_extension": ".py",
   "mimetype": "text/x-python",
   "name": "python",
   "nbconvert_exporter": "python",
   "pygments_lexer": "ipython3",
   "version": "3.11.3"
  },
  "orig_nbformat": 4
 },
 "nbformat": 4,
 "nbformat_minor": 2
}
