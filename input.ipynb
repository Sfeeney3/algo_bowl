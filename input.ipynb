{
 "cells": [
  {
   "cell_type": "code",
   "execution_count": 3,
   "metadata": {},
   "outputs": [],
   "source": [
    "import random\n",
    "import networkx as nx\n",
    "import matplotlib.pyplot as plt"
   ]
  },
  {
   "cell_type": "code",
   "execution_count": 4,
   "metadata": {},
   "outputs": [],
   "source": [
    "class input_script():\n",
    "    def __init__(self) -> None:\n",
    "        self.num_nodes = self.equilikely(50,100) \n",
    "        self.build_graph()\n",
    "\n",
    "    def equilikely(self,a:int,b:int):\n",
    "\n",
    "        r = random.uniform(.00001,.99999)\n",
    "        return(a+int((b-a + 1)*r))\n",
    "    \n",
    "    def build_graph(self):\n",
    "        # Create an empty undirected graph\n",
    "        self.graph = nx.Graph()\n",
    "\n",
    "        # Add nodes\n",
    "        self.graph.add_nodes_from(range(self.num_nodes))\n",
    "        n = self.num_nodes\n",
    "        # Add edges with weights\n",
    "        for i in range(n):\n",
    "            for j in range(i + 1, n):  # Avoid adding self-loops and duplicate edges\n",
    "                weight = self.equilikely(1, 50)\n",
    "                self.graph.add_edge(i, j, weight=weight)\n",
    "        \n",
    "        \n",
    "\n"
   ]
  },
  {
   "cell_type": "code",
   "execution_count": 5,
   "metadata": {},
   "outputs": [],
   "source": [
    "test_input = input_script()\n",
    "\n",
    "\n",
    "\n",
    "\n"
   ]
  },
  {
   "cell_type": "code",
   "execution_count": 21,
   "metadata": {},
   "outputs": [],
   "source": [
    "import random\n",
    "import networkx as nx\n",
    "\n",
    "class InputScript():\n",
    "    def __init__(self,params:list) -> None:\n",
    "        self.num_nodes = self.equilikely(min(params), max(params)) \n",
    "        self.num_required = self.equilikely(2, self.num_nodes)  # at least two required vertices\n",
    "        self.build_graph()\n",
    "\n",
    "    def equilikely(self, a: int, b: int) -> int:\n",
    "        r = random.uniform(0.00001, 0.99999)\n",
    "        return a + int((b - a + 1) * r)\n",
    "\n",
    "    def build_graph(self) -> None:\n",
    "        self.graph = nx.Graph()\n",
    "        self.graph.add_nodes_from(range(1, self.num_nodes + 1))  # Nodes start from 1\n",
    "        \n",
    "        for i in range(1, self.num_nodes + 1):\n",
    "            for j in range(i + 1, self.num_nodes + 1):\n",
    "                weight = self.equilikely(1, 50)\n",
    "                self.graph.add_edge(i, j, weight=weight)\n",
    "        \n",
    "        self.required_vertices = random.sample(range(1, self.num_nodes + 1), self.num_required)\n",
    "\n",
    "    def output_graph(self, filename='output_graph.txt') -> None:\n",
    "        with open(filename, 'w') as file:\n",
    "            num_edges = self.graph.number_of_edges()\n",
    "            file.write(f\"{self.num_nodes} {num_edges} {self.num_required}\\n\")\n",
    "            file.write(\" \".join(map(str, self.required_vertices)) + '\\n')\n",
    "            \n",
    "            for edge in self.graph.edges(data=True):\n",
    "                file.write(f\"{edge[0]} {edge[1]} {edge[2]['weight']}\\n\")\n",
    "\n",
    "\n",
    "\n"
   ]
  },
  {
   "cell_type": "code",
   "execution_count": 23,
   "metadata": {},
   "outputs": [],
   "source": [
    "params = [10,20]\n",
    "script = InputScript(params)\n",
    "script.output_graph()\n"
   ]
  }
 ],
 "metadata": {
  "kernelspec": {
   "display_name": "base",
   "language": "python",
   "name": "python3"
  },
  "language_info": {
   "codemirror_mode": {
    "name": "ipython",
    "version": 3
   },
   "file_extension": ".py",
   "mimetype": "text/x-python",
   "name": "python",
   "nbconvert_exporter": "python",
   "pygments_lexer": "ipython3",
   "version": "3.11.3"
  },
  "orig_nbformat": 4
 },
 "nbformat": 4,
 "nbformat_minor": 2
}
